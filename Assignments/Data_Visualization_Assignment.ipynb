{
  "nbformat": 4,
  "nbformat_minor": 0,
  "metadata": {
    "kernelspec": {
      "display_name": "Python 3",
      "language": "python",
      "name": "python3"
    },
    "language_info": {
      "codemirror_mode": {
        "name": "ipython",
        "version": 3
      },
      "file_extension": ".py",
      "mimetype": "text/x-python",
      "name": "python",
      "nbconvert_exporter": "python",
      "pygments_lexer": "ipython3",
      "version": "3.7.4"
    },
    "colab": {
      "name": "Data Visualization Assignment.ipynb",
      "provenance": []
    }
  },
  "cells": [
    {
      "cell_type": "markdown",
      "metadata": {
        "id": "6jA0_glzmSMg",
        "colab_type": "text"
      },
      "source": [
        "# Data Analysis and Machine Learning Using Python"
      ]
    },
    {
      "cell_type": "markdown",
      "metadata": {
        "id": "-os2ae-amSMh",
        "colab_type": "text"
      },
      "source": [
        "![image.png](attachment:image.png)"
      ]
    },
    {
      "cell_type": "markdown",
      "metadata": {
        "id": "Imbsp1rEmSMh",
        "colab_type": "text"
      },
      "source": [
        "# Data Visualization Assignment"
      ]
    },
    {
      "cell_type": "markdown",
      "metadata": {
        "id": "m1wCd4YzmSMi",
        "colab_type": "text"
      },
      "source": [
        "### Submission Date & Time : 21st June 2020 & 15:00"
      ]
    },
    {
      "cell_type": "markdown",
      "metadata": {
        "id": "bnMT01xEmSMi",
        "colab_type": "text"
      },
      "source": [
        "## Q.1  \n",
        "- Import all modules required for Data Visualization"
      ]
    },
    {
      "cell_type": "code",
      "metadata": {
        "id": "F5sbUZ07mSMj",
        "colab_type": "code",
        "colab": {
          "base_uri": "https://localhost:8080/",
          "height": 70
        },
        "outputId": "aea07ff0-ea63-4aeb-e0e5-2e276e43f548"
      },
      "source": [
        "import numpy as np\n",
        "import pandas as pd\n",
        "import seaborn as sns\n",
        "import matplotlib.pyplot as plt\n",
        "%matplotlib inline"
      ],
      "execution_count": 1,
      "outputs": [
        {
          "output_type": "stream",
          "text": [
            "/usr/local/lib/python3.6/dist-packages/statsmodels/tools/_testing.py:19: FutureWarning: pandas.util.testing is deprecated. Use the functions in the public API at pandas.testing instead.\n",
            "  import pandas.util.testing as tm\n"
          ],
          "name": "stderr"
        }
      ]
    },
    {
      "cell_type": "markdown",
      "metadata": {
        "id": "K7KfAyGZmSMm",
        "colab_type": "text"
      },
      "source": [
        "## Q.2 \n",
        "- Plot a Sine Wave with color code with \"black\" color and style as dashdot, also mark \"x\" and \"y\" label and give a suitable title to it"
      ]
    },
    {
      "cell_type": "code",
      "metadata": {
        "id": "gHu4EmU_mSMm",
        "colab_type": "code",
        "colab": {
          "base_uri": "https://localhost:8080/",
          "height": 295
        },
        "outputId": "b03da9d9-fd8d-4dcc-d7fe-3b455295af6e"
      },
      "source": [
        "# Get x values of the sine wave\n",
        "\n",
        "time        = np.arange(0, 10, 0.1);\n",
        "\n",
        " \n",
        "\n",
        "# Amplitude of the sine wave is sine of a variable like time\n",
        "\n",
        "amplitude   = np.sin(time)\n",
        "\n",
        " \n",
        "\n",
        "# Plot a sine wave using time and amplitude obtained for the sine wave\n",
        "\n",
        "plt.plot(time, amplitude,'g--')\n",
        "# Give a title for the sine wave plot\n",
        "\n",
        "plt.title('Sine wave')\n",
        "# Give x axis label for the sine wave plt\n",
        "\n",
        "plt.xlabel('Time')\n",
        "# Give y axis label for the sine wave plt\n",
        "\n",
        "plt.ylabel('Amplitude = sin(time)')\n",
        "\n",
        " \n",
        "\n",
        "plt.grid(True, which='both')\n",
        "\n",
        " \n",
        "\n",
        "plt.axhline(y=0, color='k')\n",
        "\n",
        " \n",
        "\n",
        "plt.show()\n",
        "\n",
        " \n",
        "\n",
        "# Display the sine wave\n",
        "\n",
        "plt.show()"
      ],
      "execution_count": 3,
      "outputs": [
        {
          "output_type": "display_data",
          "data": {
            "image/png": "[encoded data removed]",
            "text/plain": [
              "<Figure size 432x288 with 1 Axes>"
            ]
          },
          "metadata": {
            "tags": [],
            "needs_background": "light"
          }
        }
      ]
    },
    {
      "cell_type": "markdown",
      "metadata": {
        "id": "DXBygJ-7mSMr",
        "colab_type": "text"
      },
      "source": [
        "## Q.3 \n",
        "- Plot a line curve with list=[2,3,4,5], use linestyle and color together for the graph and marker style as \"Rotated Hexagon Marker\""
      ]
    },
    {
      "cell_type": "code",
      "metadata": {
        "id": "gZpDXDUymSMr",
        "colab_type": "code",
        "colab": {
          "base_uri": "https://localhost:8080/",
          "height": 281
        },
        "outputId": "980c2eb4-9204-4c5d-e396-c1be0ed2a26c"
      },
      "source": [
        "l = [2,3,4,5]\n",
        "plt.plot(l,np.arange(1, 5),'g--','c',marker = (6, 0, 45))\n",
        "plt.axhline(y=0, color='k')\n",
        "plt.axvline(x=0, color='k')\n",
        "plt.title('LineStyle')\n",
        "plt.show()"
      ],
      "execution_count": 11,
      "outputs": [
        {
          "output_type": "display_data",
          "data": {
            "image/png": "[encoded data removed]",
            "text/plain": [
              "<Figure size 432x288 with 1 Axes>"
            ]
          },
          "metadata": {
            "tags": [],
            "needs_background": "light"
          }
        }
      ]
    },
    {
      "cell_type": "markdown",
      "metadata": {
        "id": "BOX0yJT-mSMw",
        "colab_type": "text"
      },
      "source": [
        "## Q.4\n",
        "![image.png](attachment:image.png)\n",
        "-Plot Stacked Bar Graph for the above data.\n",
        "    - Use proper colors and x and y label for the graph\n",
        "    - Use legend positioned at upper right corner\n",
        "    - Also mark xticks with an angle of 90 Degree"
      ]
    },
    {
      "cell_type": "code",
      "metadata": {
        "id": "WjTCbz4UmSMx",
        "colab_type": "code",
        "colab": {}
      },
      "source": [
        ""
      ],
      "execution_count": null,
      "outputs": []
    },
    {
      "cell_type": "code",
      "metadata": {
        "id": "kbtwweiMmSM1",
        "colab_type": "code",
        "colab": {}
      },
      "source": [
        ""
      ],
      "execution_count": null,
      "outputs": []
    },
    {
      "cell_type": "markdown",
      "metadata": {
        "id": "rSUZCVAemSM3",
        "colab_type": "text"
      },
      "source": [
        "## Q.5 For Titanic Dataset\n",
        "- Load Dataset using Seaborn\n",
        "- Plot a Bar Graph of Survival of Passenger against the Passenger Class.\n",
        "- Use proper \"hue\" attribute, and palette color. Mark 'x' and 'y' label with proper title.\n",
        "- Use legend located at upper left corner"
      ]
    },
    {
      "cell_type": "code",
      "metadata": {
        "id": "hFQv7kC3mSM3",
        "colab_type": "code",
        "colab": {}
      },
      "source": [
        ""
      ],
      "execution_count": null,
      "outputs": []
    },
    {
      "cell_type": "code",
      "metadata": {
        "id": "70yWOicImSM5",
        "colab_type": "code",
        "colab": {}
      },
      "source": [
        ""
      ],
      "execution_count": null,
      "outputs": []
    },
    {
      "cell_type": "markdown",
      "metadata": {
        "id": "UJKz3VDGmSM7",
        "colab_type": "text"
      },
      "source": [
        "## Q.6 For Tips Dataset\n",
        "- Load the Dataset Using Seaborn\n",
        "- Plot the Horizontal Distribution Graph on Total Bill with color as Green\n",
        "- Mark proper 'x' and 'y' label and give a suitable title"
      ]
    },
    {
      "cell_type": "code",
      "metadata": {
        "id": "a2JeY5EbmSM7",
        "colab_type": "code",
        "colab": {}
      },
      "source": [
        ""
      ],
      "execution_count": null,
      "outputs": []
    },
    {
      "cell_type": "markdown",
      "metadata": {
        "id": "26UU2RpPmSM-",
        "colab_type": "text"
      },
      "source": [
        "# Q.7\n",
        "- Also plot the KDE Graph for the above data"
      ]
    },
    {
      "cell_type": "code",
      "metadata": {
        "id": "Bex6SeZCmSM-",
        "colab_type": "code",
        "colab": {}
      },
      "source": [
        ""
      ],
      "execution_count": null,
      "outputs": []
    },
    {
      "cell_type": "markdown",
      "metadata": {
        "id": "biP7rdXPmSNA",
        "colab_type": "text"
      },
      "source": [
        "## Q.8 For Cancer Dataset\n",
        "- Load the data with the help of Matplotlib (Dataset Provided)\n",
        "- Print the first 10 data of the whole dataset\n",
        "- Plot Box Plot with column 'texture_mean' , separated by column 'diagnosis'"
      ]
    },
    {
      "cell_type": "code",
      "metadata": {
        "id": "PHpS4EHOmSNB",
        "colab_type": "code",
        "colab": {}
      },
      "source": [
        ""
      ],
      "execution_count": null,
      "outputs": []
    },
    {
      "cell_type": "code",
      "metadata": {
        "id": "Grmho4mfmSNE",
        "colab_type": "code",
        "colab": {}
      },
      "source": [
        ""
      ],
      "execution_count": null,
      "outputs": []
    },
    {
      "cell_type": "markdown",
      "metadata": {
        "id": "NEiUOOVSmSNG",
        "colab_type": "text"
      },
      "source": [
        "## Q.9 \n",
        "![image.png](attachment:image.png)\n",
        "\n",
        "- Plot the Pie Chart for the two colums with some explode for the country \"India\"  and proper shadow"
      ]
    },
    {
      "cell_type": "code",
      "metadata": {
        "id": "95WLktCvmSNG",
        "colab_type": "code",
        "colab": {}
      },
      "source": [
        ""
      ],
      "execution_count": null,
      "outputs": []
    },
    {
      "cell_type": "code",
      "metadata": {
        "id": "UocDjqxDmSNI",
        "colab_type": "code",
        "colab": {}
      },
      "source": [
        ""
      ],
      "execution_count": null,
      "outputs": []
    },
    {
      "cell_type": "markdown",
      "metadata": {
        "id": "r_eiet06mSNL",
        "colab_type": "text"
      },
      "source": [
        "## Q.10 For Tips Dataset\n",
        "- Load the dataset using seaborn\n",
        "- Draw the Strip Plot between 'total bill' and 'day'\n",
        "- Rotate xticks with an angle of 45 Degree"
      ]
    },
    {
      "cell_type": "markdown",
      "metadata": {
        "id": "hRZ_hp5jmSNL",
        "colab_type": "text"
      },
      "source": [
        " "
      ]
    },
    {
      "cell_type": "code",
      "metadata": {
        "id": "UCdTBpuYmSNM",
        "colab_type": "code",
        "colab": {}
      },
      "source": [
        ""
      ],
      "execution_count": null,
      "outputs": []
    }
  ]
}